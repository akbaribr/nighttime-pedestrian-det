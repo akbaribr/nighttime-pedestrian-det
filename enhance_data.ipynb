{
 "cells": [
  {
   "cell_type": "code",
   "execution_count": null,
   "metadata": {},
   "outputs": [],
   "source": [
    "!gdown 12ZlsMNXutxN3U_V-IvLGQYpPT9DopGjM -O sample-data.zip"
   ]
  },
  {
   "cell_type": "code",
   "execution_count": null,
   "metadata": {},
   "outputs": [],
   "source": [
    "!unzip sample-data.zip -d ./data/original"
   ]
  },
  {
   "cell_type": "code",
   "execution_count": 5,
   "metadata": {},
   "outputs": [],
   "source": [
    "import os\n",
    "import glob\n",
    "import cv2\n",
    "import numpy as np"
   ]
  },
  {
   "cell_type": "code",
   "execution_count": 6,
   "metadata": {},
   "outputs": [],
   "source": [
    "def gammaCorrection(src, gamma):\n",
    "  invGamma = 1/gamma\n",
    "  table = [((i / 255) ** invGamma) * 255 for i in range(256)]\n",
    "  table = np.array(table, np.uint8)\n",
    "\n",
    "  return cv2.LUT(src, table)"
   ]
  },
  {
   "cell_type": "code",
   "execution_count": null,
   "metadata": {},
   "outputs": [],
   "source": [
    "input_base_path = \"./data/original\"\n",
    "output_base_path = \"./data/enhanced\"\n",
    "\n",
    "clahe_clip = 2\n",
    "gamma = 5\n",
    "tophat_kernel_size = (3, 3)\n",
    "\n",
    "for directory in os.listdir(input_base_path):\n",
    "  input_path = os.path.join(input_base_path, directory)\n",
    "  output_path = os.path.join(output_base_path, directory)\n",
    "\n",
    "  if not os.path.exists(output_path):\n",
    "    os.makedirs(output_path, exist_ok=True)\n",
    "    \n",
    "  for filename in glob.glob(os.path.join(input_path,\"*.png\")):\n",
    "    print(output_path, filename)\n",
    "    img = cv2.imread(filename)\n",
    "    hsv = cv2.cvtColor(img, cv2.COLOR_BGR2HSV)\n",
    "\n",
    "    hue, sat, val = cv2.split(hsv)\n",
    "\n",
    "    inv_val = 255-val\n",
    "    clahe = cv2.createCLAHE(clipLimit = clahe_clip)\n",
    "    clahe_res = clahe.apply(inv_val)\n",
    "\n",
    "    gamma_res = gammaCorrection(clahe_res, 1/gamma)\n",
    "\n",
    "    kernel = cv2.getStructuringElement(cv2.MORPH_RECT, tophat_kernel_size)\n",
    "    tophat = cv2.morphologyEx(gamma_res, cv2.MORPH_TOPHAT, kernel)\n",
    "\n",
    "    tophat_res = cv2.add(gamma_res, tophat)\n",
    "\n",
    "    arr1 = clahe_res.reshape(-1,1)\n",
    "    arr2 = tophat_res.reshape(-1,1)\n",
    "\n",
    "    matrix = np.concatenate((arr1, arr2), axis=1)\n",
    "    mean, eigenvectors = cv2.PCACompute(matrix, mean=None)\n",
    "\n",
    "    pc1 = eigenvectors[0,:]\n",
    "    w1 = pc1[0]/(pc1[0]+pc1[1])\n",
    "    w2 = pc1[1]/(pc1[0]+pc1[1])\n",
    "\n",
    "    fusion = (w2*clahe_res+w1*tophat_res).astype(np.uint8)\n",
    "\n",
    "    final_inv = 255-fusion\n",
    "\n",
    "    merged = cv2.merge([hue, sat, final_inv])\n",
    "    merged_rgb = cv2.cvtColor(merged, cv2.COLOR_HSV2BGR)\n",
    "    cv2.imwrite(os.path.join(output_path,\n",
    "                             os.path.basename(filename)),\n",
    "                             merged_rgb)"
   ]
  }
 ],
 "metadata": {
  "kernelspec": {
   "display_name": "Python 3",
   "language": "python",
   "name": "python3"
  },
  "language_info": {
   "codemirror_mode": {
    "name": "ipython",
    "version": 3
   },
   "file_extension": ".py",
   "mimetype": "text/x-python",
   "name": "python",
   "nbconvert_exporter": "python",
   "pygments_lexer": "ipython3",
   "version": "3.8.10"
  },
  "orig_nbformat": 4
 },
 "nbformat": 4,
 "nbformat_minor": 2
}
