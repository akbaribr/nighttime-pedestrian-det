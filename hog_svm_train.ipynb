{
  "cells": [
    {
      "cell_type": "markdown",
      "metadata": {
        "id": "ve2jHf-U1e1V"
      },
      "source": [
        "##Import library"
      ]
    },
    {
      "cell_type": "code",
      "execution_count": null,
      "metadata": {
        "id": "42mmLYdG_3BF"
      },
      "outputs": [],
      "source": [
        "import os\n",
        "import glob\n",
        "import pickle\n",
        "import cv2\n",
        "from skimage.feature import hog\n",
        "from sklearn.svm import LinearSVC\n",
        "import numpy as np"
      ]
    },
    {
      "cell_type": "markdown",
      "metadata": {},
      "source": [
        "##Train model"
      ]
    },
    {
      "cell_type": "code",
      "execution_count": null,
      "metadata": {
        "colab": {
          "base_uri": "https://localhost:8080/"
        },
        "id": "U7yOTQgnFENk",
        "outputId": "4f233e1b-5433-4b89-8b75-93f1d26d5a89"
      },
      "outputs": [],
      "source": [
        "# define parameters of HOG feature extraction\n",
        "orientations = 9\n",
        "pixels_per_cell = (8, 8)\n",
        "cells_per_block = (2, 2)\n",
        "\n",
        "X = []\n",
        "Y = []\n",
        "\n",
        "pos_im_path = \"./data/enhanced/positive\"\n",
        "neg_im_path = \"./data/enhanced/negative\"\n",
        "\n",
        "# Load the positive features\n",
        "for filename in glob.glob(os.path.join(pos_im_path,\"*.png\")):\n",
        "    fd = cv2.imread(filename,0)\n",
        "    Y.append(1)\n",
        "    fd = cv2.resize(fd,(64,128))\n",
        "    fd = hog(fd, orientations, pixels_per_cell, cells_per_block, block_norm='L2')\n",
        "    X.append(fd)\n",
        "\n",
        "# Load the negative features\n",
        "for filename in glob.glob(os.path.join(neg_im_path,\"*.png\")):\n",
        "    fd = cv2.imread(filename,0)\n",
        "    fd = cv2.resize(fd,(64,128))\n",
        "    fd = hog(fd, orientations, pixels_per_cell, cells_per_block, block_norm='L2')\n",
        "    X.append(fd)\n",
        "    Y.append(0)\n",
        "\n",
        "X = np.float32(X)\n",
        "Y = np.array(Y)\n",
        "\n",
        "print('Train Data:', len(X))\n",
        "print('Train Labels (1,0)', len(Y))\n",
        "\n",
        "model = LinearSVC()\n",
        "model.fit(X, Y)\n",
        "\n",
        "pickle.dump(model, open('./models/model-enhanced.sav', 'wb'))\n",
        "print('Model saved : {}'.format('model-enhanced.sav'))"
      ]
    }
  ],
  "metadata": {
    "colab": {
      "collapsed_sections": [
        "Y-n4v81q1tH4"
      ],
      "provenance": []
    },
    "kernelspec": {
      "display_name": "Python 3",
      "name": "python3"
    },
    "language_info": {
      "codemirror_mode": {
        "name": "ipython",
        "version": 3
      },
      "file_extension": ".py",
      "mimetype": "text/x-python",
      "name": "python",
      "nbconvert_exporter": "python",
      "pygments_lexer": "ipython3",
      "version": "3.8.10"
    }
  },
  "nbformat": 4,
  "nbformat_minor": 0
}
